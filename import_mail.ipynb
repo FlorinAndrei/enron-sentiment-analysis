{
 "cells": [
  {
   "cell_type": "code",
   "execution_count": 1,
   "metadata": {},
   "outputs": [],
   "source": [
    "import os\n",
    "import platform\n",
    "import numpy as np\n",
    "import pandas as pd\n",
    "from multiprocess import Pool, cpu_count\n",
    "import plotly.express as px\n",
    "\n",
    "from mail_helpers import ingest_emails\n",
    "\n",
    "\n",
    "pd.options.mode.copy_on_write = True\n",
    "# pd.read_csv(fname, engine='pyarrow', dtype_backend='pyarrow')\n",
    "# pd.Series([1, 2, 3, 4], dtype='int64[pyarrow]')\n",
    "# pd.Series(['foo', 'bar', 'foobar'], dtype='string[pyarrow]')\n",
    "# pd.read_csv(my_file, use_nullable_dtypes=True)\n"
   ]
  },
  {
   "attachments": {},
   "cell_type": "markdown",
   "metadata": {},
   "source": [
    "Enron Email Dataset\n",
    "\n",
    "https://www.cs.cmu.edu/~./enron/"
   ]
  },
  {
   "cell_type": "code",
   "execution_count": 2,
   "metadata": {},
   "outputs": [],
   "source": [
    "# Message files end with a dot. This is not supported on Windows.\n",
    "# Workaround for Windows:\n",
    "# Add the prefix \"\\\\?\\\" to the path to force the OS to read the files.\n",
    "# normpath() is used everywhere to make sure things remain portable.\n",
    "cwd = os.getcwd()\n",
    "if platform.system() == \"Windows\":\n",
    "    cwd = \"\\\\\\\\?\\\\\" + cwd\n",
    "basedir = cwd + os.path.normpath(\"/maildir\")\n",
    "top_level_dirs = os.listdir(basedir)\n",
    "\n",
    "if __name__ == \"__main__\":\n",
    "    cpus = cpu_count()\n",
    "    arglist = list(zip([basedir] * len(top_level_dirs), top_level_dirs))\n",
    "    with Pool(processes=cpus) as mp_pool:\n",
    "        mp_results = mp_pool.map_async(ingest_emails, arglist)\n",
    "        mp_results.wait()\n",
    "    all_emails = pd.concat([r for r in mp_results.get()], ignore_index=True)\n",
    "    del mp_results\n",
    "    del mp_pool\n"
   ]
  },
  {
   "cell_type": "code",
   "execution_count": 3,
   "metadata": {},
   "outputs": [],
   "source": [
    "# convert float seconds to datetime\n",
    "all_emails[\"Date\"] = pd.to_datetime(all_emails[\"Date\"], unit=\"s\")\n"
   ]
  },
  {
   "cell_type": "code",
   "execution_count": 4,
   "metadata": {},
   "outputs": [
    {
     "data": {
      "text/plain": [
       "Top_Level_Folder            object\n",
       "Mail_Folder                 object\n",
       "Message_File                 int64\n",
       "From                        object\n",
       "To                          object\n",
       "Cc                          object\n",
       "Bcc                         object\n",
       "Date                datetime64[ns]\n",
       "Subject                     object\n",
       "Body                        object\n",
       "Body_Message                object\n",
       "Body_Quoted                 object\n",
       "dtype: object"
      ]
     },
     "execution_count": 4,
     "metadata": {},
     "output_type": "execute_result"
    }
   ],
   "source": [
    "all_emails.dtypes\n"
   ]
  },
  {
   "cell_type": "code",
   "execution_count": 5,
   "metadata": {},
   "outputs": [
    {
     "data": {
      "text/html": [
       "<div>\n",
       "<style scoped>\n",
       "    .dataframe tbody tr th:only-of-type {\n",
       "        vertical-align: middle;\n",
       "    }\n",
       "\n",
       "    .dataframe tbody tr th {\n",
       "        vertical-align: top;\n",
       "    }\n",
       "\n",
       "    .dataframe thead th {\n",
       "        text-align: right;\n",
       "    }\n",
       "</style>\n",
       "<table border=\"1\" class=\"dataframe\">\n",
       "  <thead>\n",
       "    <tr style=\"text-align: right;\">\n",
       "      <th></th>\n",
       "      <th>Top_Level_Folder</th>\n",
       "      <th>Mail_Folder</th>\n",
       "      <th>Message_File</th>\n",
       "      <th>From</th>\n",
       "      <th>To</th>\n",
       "      <th>Cc</th>\n",
       "      <th>Bcc</th>\n",
       "      <th>Date</th>\n",
       "      <th>Subject</th>\n",
       "      <th>Body</th>\n",
       "      <th>Body_Message</th>\n",
       "      <th>Body_Quoted</th>\n",
       "    </tr>\n",
       "  </thead>\n",
       "  <tbody>\n",
       "    <tr>\n",
       "      <th>0</th>\n",
       "      <td>allen-p</td>\n",
       "      <td>all_documents</td>\n",
       "      <td>1</td>\n",
       "      <td>['1.11913372.-2@multexinvestornetwork.com']</td>\n",
       "      <td>['pallen@enron.com']</td>\n",
       "      <td>[]</td>\n",
       "      <td>[]</td>\n",
       "      <td>2000-12-14 02:41:00</td>\n",
       "      <td>December 14, 2000 - Bear Stearns' predictions ...</td>\n",
       "      <td>In today's Daily Update you'll find free repor...</td>\n",
       "      <td>In today's Daily Update you'll find free repor...</td>\n",
       "      <td></td>\n",
       "    </tr>\n",
       "    <tr>\n",
       "      <th>1</th>\n",
       "      <td>allen-p</td>\n",
       "      <td>all_documents</td>\n",
       "      <td>10</td>\n",
       "      <td>['messenger@ecm.bloomberg.com']</td>\n",
       "      <td>[]</td>\n",
       "      <td>[]</td>\n",
       "      <td>[]</td>\n",
       "      <td>2000-12-13 16:35:00</td>\n",
       "      <td>Bloomberg Power Lines Report</td>\n",
       "      <td>Here is today's copy of Bloomberg Power Lines....</td>\n",
       "      <td>Here is today's copy of Bloomberg Power Lines....</td>\n",
       "      <td></td>\n",
       "    </tr>\n",
       "    <tr>\n",
       "      <th>2</th>\n",
       "      <td>allen-p</td>\n",
       "      <td>all_documents</td>\n",
       "      <td>100</td>\n",
       "      <td>['phillip.allen@enron.com']</td>\n",
       "      <td>['keith.holst@enron.com']</td>\n",
       "      <td>[]</td>\n",
       "      <td>[]</td>\n",
       "      <td>2000-10-09 14:16:00</td>\n",
       "      <td>Consolidated positions: Issues &amp; To Do list</td>\n",
       "      <td>---------------------- Forwarded by Phillip K ...</td>\n",
       "      <td>---------------------- Forwarded by Phillip K ...</td>\n",
       "      <td></td>\n",
       "    </tr>\n",
       "    <tr>\n",
       "      <th>3</th>\n",
       "      <td>allen-p</td>\n",
       "      <td>all_documents</td>\n",
       "      <td>101</td>\n",
       "      <td>['phillip.allen@enron.com']</td>\n",
       "      <td>['keith.holst@enron.com']</td>\n",
       "      <td>[]</td>\n",
       "      <td>[]</td>\n",
       "      <td>2000-10-09 14:00:00</td>\n",
       "      <td>Consolidated positions: Issues &amp; To Do list</td>\n",
       "      <td>---------------------- Forwarded by Phillip K ...</td>\n",
       "      <td>---------------------- Forwarded by Phillip K ...</td>\n",
       "      <td></td>\n",
       "    </tr>\n",
       "    <tr>\n",
       "      <th>4</th>\n",
       "      <td>allen-p</td>\n",
       "      <td>all_documents</td>\n",
       "      <td>102</td>\n",
       "      <td>['phillip.allen@enron.com']</td>\n",
       "      <td>['david.delainey@enron.com']</td>\n",
       "      <td>[]</td>\n",
       "      <td>[]</td>\n",
       "      <td>2000-10-05 13:26:00</td>\n",
       "      <td></td>\n",
       "      <td>Dave, \\n\\n Here are the names of the west desk...</td>\n",
       "      <td>Dave, \\n\\n Here are the names of the west desk...</td>\n",
       "      <td></td>\n",
       "    </tr>\n",
       "    <tr>\n",
       "      <th>...</th>\n",
       "      <td>...</td>\n",
       "      <td>...</td>\n",
       "      <td>...</td>\n",
       "      <td>...</td>\n",
       "      <td>...</td>\n",
       "      <td>...</td>\n",
       "      <td>...</td>\n",
       "      <td>...</td>\n",
       "      <td>...</td>\n",
       "      <td>...</td>\n",
       "      <td>...</td>\n",
       "      <td>...</td>\n",
       "    </tr>\n",
       "    <tr>\n",
       "      <th>517396</th>\n",
       "      <td>zufferli-j</td>\n",
       "      <td>sent_items</td>\n",
       "      <td>95</td>\n",
       "      <td>['john.zufferli@enron.com']</td>\n",
       "      <td>['kori.loibl@enron.com']</td>\n",
       "      <td>[]</td>\n",
       "      <td>[]</td>\n",
       "      <td>2001-11-28 21:30:11</td>\n",
       "      <td>Trade with John Lavorato</td>\n",
       "      <td>This is a trade with OIL-SPEC-HEDGE-NG (John L...</td>\n",
       "      <td>This is a trade with OIL-SPEC-HEDGE-NG (John L...</td>\n",
       "      <td></td>\n",
       "    </tr>\n",
       "    <tr>\n",
       "      <th>517397</th>\n",
       "      <td>zufferli-j</td>\n",
       "      <td>sent_items</td>\n",
       "      <td>96</td>\n",
       "      <td>['john.zufferli@enron.com']</td>\n",
       "      <td>['john.lavorato@enron.com']</td>\n",
       "      <td>[]</td>\n",
       "      <td>[]</td>\n",
       "      <td>2001-11-28 20:47:48</td>\n",
       "      <td>Gas Hedges</td>\n",
       "      <td>Some of my position is with the Alberta Term b...</td>\n",
       "      <td>Some of my position is with the Alberta Term b...</td>\n",
       "      <td></td>\n",
       "    </tr>\n",
       "    <tr>\n",
       "      <th>517398</th>\n",
       "      <td>zufferli-j</td>\n",
       "      <td>sent_items</td>\n",
       "      <td>97</td>\n",
       "      <td>['john.zufferli@enron.com']</td>\n",
       "      <td>['dawn.doucet@enron.com']</td>\n",
       "      <td>[]</td>\n",
       "      <td>[]</td>\n",
       "      <td>2001-11-28 15:20:00</td>\n",
       "      <td>RE: CONFIDENTIAL</td>\n",
       "      <td>2\\n\\n -----Original Message-----\\nFrom: \\tDouc...</td>\n",
       "      <td>2\\n\\n -----Original Message-----</td>\n",
       "      <td>From: \\tDoucet, Dawn  \\nSent:\\tWednesday, Nove...</td>\n",
       "    </tr>\n",
       "    <tr>\n",
       "      <th>517399</th>\n",
       "      <td>zufferli-j</td>\n",
       "      <td>sent_items</td>\n",
       "      <td>98</td>\n",
       "      <td>['john.zufferli@enron.com']</td>\n",
       "      <td>['jeanie.slone@enron.com']</td>\n",
       "      <td>[]</td>\n",
       "      <td>[]</td>\n",
       "      <td>2001-11-27 19:52:45</td>\n",
       "      <td>Calgary Analyst/Associate</td>\n",
       "      <td>Analyst\\t\\t\\t\\t\\tRank\\n\\nStephane Brodeur\\t\\t\\...</td>\n",
       "      <td>Analyst\\t\\t\\t\\t\\tRank\\n\\nStephane Brodeur\\t\\t\\...</td>\n",
       "      <td></td>\n",
       "    </tr>\n",
       "    <tr>\n",
       "      <th>517400</th>\n",
       "      <td>zufferli-j</td>\n",
       "      <td>sent_items</td>\n",
       "      <td>99</td>\n",
       "      <td>['john.zufferli@enron.com']</td>\n",
       "      <td>['livia_zufferli@monitor.com']</td>\n",
       "      <td>[]</td>\n",
       "      <td>[]</td>\n",
       "      <td>2001-11-26 18:48:43</td>\n",
       "      <td>RE: ali's essays</td>\n",
       "      <td>i think the YMCA has a class that is for peopl...</td>\n",
       "      <td>i think the YMCA has a class that is for peopl...</td>\n",
       "      <td>From: \\tLivia_Zufferli@Monitor.com@ENRON  \\nSe...</td>\n",
       "    </tr>\n",
       "  </tbody>\n",
       "</table>\n",
       "<p>517401 rows × 12 columns</p>\n",
       "</div>"
      ],
      "text/plain": [
       "       Top_Level_Folder    Mail_Folder  Message_File   \n",
       "0               allen-p  all_documents             1  \\\n",
       "1               allen-p  all_documents            10   \n",
       "2               allen-p  all_documents           100   \n",
       "3               allen-p  all_documents           101   \n",
       "4               allen-p  all_documents           102   \n",
       "...                 ...            ...           ...   \n",
       "517396       zufferli-j     sent_items            95   \n",
       "517397       zufferli-j     sent_items            96   \n",
       "517398       zufferli-j     sent_items            97   \n",
       "517399       zufferli-j     sent_items            98   \n",
       "517400       zufferli-j     sent_items            99   \n",
       "\n",
       "                                               From   \n",
       "0       ['1.11913372.-2@multexinvestornetwork.com']  \\\n",
       "1                   ['messenger@ecm.bloomberg.com']   \n",
       "2                       ['phillip.allen@enron.com']   \n",
       "3                       ['phillip.allen@enron.com']   \n",
       "4                       ['phillip.allen@enron.com']   \n",
       "...                                             ...   \n",
       "517396                  ['john.zufferli@enron.com']   \n",
       "517397                  ['john.zufferli@enron.com']   \n",
       "517398                  ['john.zufferli@enron.com']   \n",
       "517399                  ['john.zufferli@enron.com']   \n",
       "517400                  ['john.zufferli@enron.com']   \n",
       "\n",
       "                                    To  Cc Bcc                Date   \n",
       "0                 ['pallen@enron.com']  []  [] 2000-12-14 02:41:00  \\\n",
       "1                                   []  []  [] 2000-12-13 16:35:00   \n",
       "2            ['keith.holst@enron.com']  []  [] 2000-10-09 14:16:00   \n",
       "3            ['keith.holst@enron.com']  []  [] 2000-10-09 14:00:00   \n",
       "4         ['david.delainey@enron.com']  []  [] 2000-10-05 13:26:00   \n",
       "...                                ...  ..  ..                 ...   \n",
       "517396        ['kori.loibl@enron.com']  []  [] 2001-11-28 21:30:11   \n",
       "517397     ['john.lavorato@enron.com']  []  [] 2001-11-28 20:47:48   \n",
       "517398       ['dawn.doucet@enron.com']  []  [] 2001-11-28 15:20:00   \n",
       "517399      ['jeanie.slone@enron.com']  []  [] 2001-11-27 19:52:45   \n",
       "517400  ['livia_zufferli@monitor.com']  []  [] 2001-11-26 18:48:43   \n",
       "\n",
       "                                                  Subject   \n",
       "0       December 14, 2000 - Bear Stearns' predictions ...  \\\n",
       "1                            Bloomberg Power Lines Report   \n",
       "2             Consolidated positions: Issues & To Do list   \n",
       "3             Consolidated positions: Issues & To Do list   \n",
       "4                                                           \n",
       "...                                                   ...   \n",
       "517396                           Trade with John Lavorato   \n",
       "517397                                         Gas Hedges   \n",
       "517398                                   RE: CONFIDENTIAL   \n",
       "517399                          Calgary Analyst/Associate   \n",
       "517400                                   RE: ali's essays   \n",
       "\n",
       "                                                     Body   \n",
       "0       In today's Daily Update you'll find free repor...  \\\n",
       "1       Here is today's copy of Bloomberg Power Lines....   \n",
       "2       ---------------------- Forwarded by Phillip K ...   \n",
       "3       ---------------------- Forwarded by Phillip K ...   \n",
       "4       Dave, \\n\\n Here are the names of the west desk...   \n",
       "...                                                   ...   \n",
       "517396  This is a trade with OIL-SPEC-HEDGE-NG (John L...   \n",
       "517397  Some of my position is with the Alberta Term b...   \n",
       "517398  2\\n\\n -----Original Message-----\\nFrom: \\tDouc...   \n",
       "517399  Analyst\\t\\t\\t\\t\\tRank\\n\\nStephane Brodeur\\t\\t\\...   \n",
       "517400  i think the YMCA has a class that is for peopl...   \n",
       "\n",
       "                                             Body_Message   \n",
       "0       In today's Daily Update you'll find free repor...  \\\n",
       "1       Here is today's copy of Bloomberg Power Lines....   \n",
       "2       ---------------------- Forwarded by Phillip K ...   \n",
       "3       ---------------------- Forwarded by Phillip K ...   \n",
       "4       Dave, \\n\\n Here are the names of the west desk...   \n",
       "...                                                   ...   \n",
       "517396  This is a trade with OIL-SPEC-HEDGE-NG (John L...   \n",
       "517397  Some of my position is with the Alberta Term b...   \n",
       "517398                   2\\n\\n -----Original Message-----   \n",
       "517399  Analyst\\t\\t\\t\\t\\tRank\\n\\nStephane Brodeur\\t\\t\\...   \n",
       "517400  i think the YMCA has a class that is for peopl...   \n",
       "\n",
       "                                              Body_Quoted  \n",
       "0                                                          \n",
       "1                                                          \n",
       "2                                                          \n",
       "3                                                          \n",
       "4                                                          \n",
       "...                                                   ...  \n",
       "517396                                                     \n",
       "517397                                                     \n",
       "517398  From: \\tDoucet, Dawn  \\nSent:\\tWednesday, Nove...  \n",
       "517399                                                     \n",
       "517400  From: \\tLivia_Zufferli@Monitor.com@ENRON  \\nSe...  \n",
       "\n",
       "[517401 rows x 12 columns]"
      ]
     },
     "execution_count": 5,
     "metadata": {},
     "output_type": "execute_result"
    }
   ],
   "source": [
    "all_emails\n"
   ]
  },
  {
   "cell_type": "code",
   "execution_count": 6,
   "metadata": {},
   "outputs": [],
   "source": [
    "# remove datetime outliers\n",
    "# only keep Oct 1998 - Jul 2002\n",
    "all_emails = all_emails.query(\"Date >= '1998-10-01' and Date <= '2002-07-31'\")\n"
   ]
  },
  {
   "cell_type": "code",
   "execution_count": 7,
   "metadata": {},
   "outputs": [
    {
     "data": {
      "text/plain": [
       "0"
      ]
     },
     "execution_count": 7,
     "metadata": {},
     "output_type": "execute_result"
    }
   ],
   "source": [
    "# check for empty messages\n",
    "all_emails[all_emails[\"Body_Message\"].str.len() == 0].shape[0]\n"
   ]
  },
  {
   "cell_type": "code",
   "execution_count": 8,
   "metadata": {},
   "outputs": [
    {
     "data": {
      "image/png": "[encoded data removed]"
     },
     "metadata": {},
     "output_type": "display_data"
    }
   ],
   "source": [
    "# px.histogram(..., log_x=True) doesn't work, this is a workaround\n",
    "bm_len_max_exp = int(np.log10(all_emails[\"Body_Message\"].str.len().max())) + 1\n",
    "bm_len_tick_list = list(range(bm_len_max_exp))\n",
    "bm_len_tick_text = np.power(10, bm_len_tick_list)\n",
    "\n",
    "# datetime distribution\n",
    "px.histogram(\n",
    "    data_frame=np.log10(all_emails[\"Body_Message\"].str.len().to_numpy())\n",
    ").update_layout(\n",
    "    title_text=\"distribution of message sizes\",\n",
    "    width=1000,\n",
    "    height=500,\n",
    "    showlegend=False,\n",
    "    xaxis_title=\"message size (bytes)\",\n",
    "    xaxis_tickvals=bm_len_tick_list,\n",
    "    xaxis_ticktext=bm_len_tick_text,\n",
    "    yaxis_title=\"count\",\n",
    ").show(\n",
    "    \"png\"\n",
    ")\n"
   ]
  },
  {
   "cell_type": "code",
   "execution_count": 9,
   "metadata": {},
   "outputs": [
    {
     "data": {
      "image/png": "[encoded data removed]"
     },
     "metadata": {},
     "output_type": "display_data"
    }
   ],
   "source": [
    "# datetime distribution\n",
    "px.histogram(data_frame=all_emails[\"Date\"], log_y=True).update_layout(\n",
    "    title_text=\"timeline distribution\",\n",
    "    width=1000,\n",
    "    height=500,\n",
    "    showlegend=False,\n",
    "    xaxis_title=None,\n",
    "    yaxis_title=\"message count\",\n",
    ").show(\"png\")\n"
   ]
  },
  {
   "cell_type": "code",
   "execution_count": 10,
   "metadata": {},
   "outputs": [
    {
     "data": {
      "text/plain": [
       "Top_Level_Folder    0\n",
       "Mail_Folder         0\n",
       "Message_File        0\n",
       "From                0\n",
       "To                  0\n",
       "Cc                  0\n",
       "Bcc                 0\n",
       "Date                0\n",
       "Subject             0\n",
       "Body                0\n",
       "Body_Message        0\n",
       "Body_Quoted         0\n",
       "dtype: int64"
      ]
     },
     "execution_count": 10,
     "metadata": {},
     "output_type": "execute_result"
    }
   ],
   "source": [
    "# check for null values\n",
    "all_emails.isnull().sum()\n"
   ]
  },
  {
   "cell_type": "code",
   "execution_count": 11,
   "metadata": {},
   "outputs": [
    {
     "data": {
      "text/plain": [
       "516345"
      ]
     },
     "execution_count": 11,
     "metadata": {},
     "output_type": "execute_result"
    }
   ],
   "source": [
    "# message count\n",
    "all_emails.shape[0]\n"
   ]
  },
  {
   "cell_type": "code",
   "execution_count": 12,
   "metadata": {},
   "outputs": [],
   "source": [
    "# save to file\n",
    "if os.path.exists(\"all_emails.csv\"):\n",
    "    os.remove(\"all_emails.csv\")\n",
    "all_emails.to_csv(\"all_emails.csv\", index=False)\n"
   ]
  },
  {
   "cell_type": "code",
   "execution_count": null,
   "metadata": {},
   "outputs": [],
   "source": []
  }
 ],
 "metadata": {
  "kernelspec": {
   "display_name": "Python 3",
   "language": "python",
   "name": "python3"
  },
  "language_info": {
   "codemirror_mode": {
    "name": "ipython",
    "version": 3
   },
   "file_extension": ".py",
   "mimetype": "text/x-python",
   "name": "python",
   "nbconvert_exporter": "python",
   "pygments_lexer": "ipython3",
   "version": "3.11.3"
  },
  "orig_nbformat": 4
 },
 "nbformat": 4,
 "nbformat_minor": 2
}
