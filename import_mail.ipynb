{
 "cells": [
  {
   "cell_type": "code",
   "execution_count": 1,
   "metadata": {},
   "outputs": [],
   "source": [
    "import email\n",
    "import os\n",
    "from pathlib import Path\n",
    "import platform\n",
    "import pandas as pd\n",
    "\n",
    "pd.options.mode.copy_on_write = True\n",
    "# pd.read_csv(fname, engine='pyarrow', dtype_backend='pyarrow')\n",
    "# pd.Series([1, 2, 3, 4], dtype='int64[pyarrow]')\n",
    "# pd.Series(['foo', 'bar', 'foobar'], dtype='string[pyarrow]')\n",
    "# pd.read_csv(my_file, use_nullable_dtypes=True)\n"
   ]
  },
  {
   "cell_type": "code",
   "execution_count": 2,
   "metadata": {},
   "outputs": [],
   "source": [
    "# Message files end with a dot. This is not supported on Windows.\n",
    "# Workaround for Windows:\n",
    "# Add a prefix \"\\\\?\\\" to the path to force the OS to read the files.\n",
    "cwd = os.getcwd()\n",
    "if platform.system() == \"Windows\":\n",
    "    cwd = \"\\\\\\\\?\\\\\" + cwd\n",
    "dir = cwd + os.path.normpath(\"/maildir/allen-p/sent_items\")\n",
    "\n",
    "for mf in os.listdir(dir):\n",
    "    message_path = Path(dir + os.path.normpath(\"/\") + mf)\n",
    "    with open(message_path, \"r\") as mfp:\n",
    "        m = email.message_from_file(mfp)\n"
   ]
  },
  {
   "cell_type": "code",
   "execution_count": null,
   "metadata": {},
   "outputs": [],
   "source": []
  }
 ],
 "metadata": {
  "kernelspec": {
   "display_name": "Python 3",
   "language": "python",
   "name": "python3"
  },
  "language_info": {
   "codemirror_mode": {
    "name": "ipython",
    "version": 3
   },
   "file_extension": ".py",
   "mimetype": "text/x-python",
   "name": "python",
   "nbconvert_exporter": "python",
   "pygments_lexer": "ipython3",
   "version": "3.11.3"
  },
  "orig_nbformat": 4
 },
 "nbformat": 4,
 "nbformat_minor": 2
}
