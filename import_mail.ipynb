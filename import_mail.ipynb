{
 "cells": [
  {
   "cell_type": "code",
   "execution_count": 1,
   "metadata": {},
   "outputs": [],
   "source": [
    "import os\n",
    "import platform\n",
    "import pandas as pd\n",
    "from multiprocess import Pool, cpu_count\n",
    "from tqdm.notebook import tqdm\n",
    "\n",
    "from mail_helpers import ingest_emails\n",
    "\n",
    "\n",
    "pd.options.mode.copy_on_write = True\n",
    "# pd.read_csv(fname, engine='pyarrow', dtype_backend='pyarrow')\n",
    "# pd.Series([1, 2, 3, 4], dtype='int64[pyarrow]')\n",
    "# pd.Series(['foo', 'bar', 'foobar'], dtype='string[pyarrow]')\n",
    "# pd.read_csv(my_file, use_nullable_dtypes=True)\n"
   ]
  },
  {
   "attachments": {},
   "cell_type": "markdown",
   "metadata": {},
   "source": [
    "Enron Email Dataset\n",
    "\n",
    "https://www.cs.cmu.edu/~./enron/"
   ]
  },
  {
   "cell_type": "code",
   "execution_count": 2,
   "metadata": {},
   "outputs": [
    {
     "ename": "TypeError",
     "evalue": "Tuple or struct_time argument required",
     "output_type": "error",
     "traceback": [
      "\u001b[1;31m---------------------------------------------------------------------------\u001b[0m",
      "\u001b[1;31mRemoteTraceback\u001b[0m                           Traceback (most recent call last)",
      "\u001b[1;31mRemoteTraceback\u001b[0m: \n\"\"\"\nTraceback (most recent call last):\n  File \"C:\\Users\\flori\\AppData\\Roaming\\Python\\Python311\\site-packages\\multiprocess\\pool.py\", line 125, in worker\n    result = (True, func(*args, **kwds))\n                    ^^^^^^^^^^^^^^^^^^^\n  File \"C:\\Users\\flori\\AppData\\Roaming\\Python\\Python311\\site-packages\\multiprocess\\pool.py\", line 48, in mapstar\n    return list(map(*args))\n           ^^^^^^^^^^^^^^^^\n  File \"c:\\Users\\flori\\git\\enron-sentiment-analysis\\mail_helpers.py\", line 70, in ingest_emails\n    message_dict[\"Date\"] = time.mktime(email.utils.parsedate(it[1]))\n                           ^^^^^^^^^^^^^^^^^^^^^^^^^^^^^^^^^^^^^^^^^\nTypeError: Tuple or struct_time argument required\n\"\"\"",
      "\nThe above exception was the direct cause of the following exception:\n",
      "\u001b[1;31mTypeError\u001b[0m                                 Traceback (most recent call last)",
      "Cell \u001b[1;32mIn[2], line 19\u001b[0m\n\u001b[0;32m     17\u001b[0m     mp_results \u001b[39m=\u001b[39m mp_pool\u001b[39m.\u001b[39mmap_async(ingest_emails, arglist)\n\u001b[0;32m     18\u001b[0m     mp_results\u001b[39m.\u001b[39mwait()\n\u001b[1;32m---> 19\u001b[0m all_emails \u001b[39m=\u001b[39m pd\u001b[39m.\u001b[39mconcat([r \u001b[39mfor\u001b[39;00m r \u001b[39min\u001b[39;00m mp_results\u001b[39m.\u001b[39;49mget()], ignore_index\u001b[39m=\u001b[39m\u001b[39mTrue\u001b[39;00m)\n\u001b[0;32m     20\u001b[0m all_emails[\u001b[39m\"\u001b[39m\u001b[39mDate\u001b[39m\u001b[39m\"\u001b[39m] \u001b[39m=\u001b[39m pd\u001b[39m.\u001b[39mto_datetime(all_emails[\u001b[39m\"\u001b[39m\u001b[39mDate\u001b[39m\u001b[39m\"\u001b[39m], unit\u001b[39m=\u001b[39m\u001b[39m\"\u001b[39m\u001b[39ms\u001b[39m\u001b[39m\"\u001b[39m)\n\u001b[0;32m     21\u001b[0m \u001b[39mdel\u001b[39;00m mp_results\n",
      "File \u001b[1;32m~\\AppData\\Roaming\\Python\\Python311\\site-packages\\multiprocess\\pool.py:774\u001b[0m, in \u001b[0;36mApplyResult.get\u001b[1;34m(self, timeout)\u001b[0m\n\u001b[0;32m    772\u001b[0m     \u001b[39mreturn\u001b[39;00m \u001b[39mself\u001b[39m\u001b[39m.\u001b[39m_value\n\u001b[0;32m    773\u001b[0m \u001b[39melse\u001b[39;00m:\n\u001b[1;32m--> 774\u001b[0m     \u001b[39mraise\u001b[39;00m \u001b[39mself\u001b[39m\u001b[39m.\u001b[39m_value\n",
      "\u001b[1;31mTypeError\u001b[0m: Tuple or struct_time argument required"
     ]
    }
   ],
   "source": [
    "# Message files end with a dot. This is not supported on Windows.\n",
    "# Workaround for Windows:\n",
    "# Add the prefix \"\\\\?\\\" to the path to force the OS to read the files.\n",
    "# normpath() is used everywhere to make sure things remain portable.\n",
    "cwd = os.getcwd()\n",
    "if platform.system() == \"Windows\":\n",
    "    cwd = \"\\\\\\\\?\\\\\" + cwd\n",
    "basedir = cwd + os.path.normpath(\"/maildir\")\n",
    "top_level_dirs = os.listdir(basedir)\n",
    "\n",
    "# df = ingest_emails((basedir, \"zufferli-j\"))\n",
    "\n",
    "if __name__ == \"__main__\":\n",
    "    cpus = cpu_count()\n",
    "    arglist = list(zip([basedir] * len(top_level_dirs), top_level_dirs))\n",
    "    with Pool(processes=cpus) as mp_pool:\n",
    "        mp_results = mp_pool.map_async(ingest_emails, arglist)\n",
    "        mp_results.wait()\n",
    "    all_emails = pd.concat([r for r in mp_results.get()], ignore_index=True)\n",
    "    all_emails[\"Date\"] = pd.to_datetime(all_emails[\"Date\"], unit=\"s\")\n",
    "    del mp_results\n",
    "    del mp_pool\n"
   ]
  },
  {
   "cell_type": "code",
   "execution_count": null,
   "metadata": {},
   "outputs": [],
   "source": [
    "if os.path.exists(\"all_emails.csv\"):\n",
    "    os.remove(\"all_emails.csv\")\n",
    "all_emails.to_csv(\"all_emails.csv\", index=False)\n"
   ]
  },
  {
   "cell_type": "code",
   "execution_count": null,
   "metadata": {},
   "outputs": [
    {
     "data": {
      "text/html": [
       "<div>\n",
       "<style scoped>\n",
       "    .dataframe tbody tr th:only-of-type {\n",
       "        vertical-align: middle;\n",
       "    }\n",
       "\n",
       "    .dataframe tbody tr th {\n",
       "        vertical-align: top;\n",
       "    }\n",
       "\n",
       "    .dataframe thead th {\n",
       "        text-align: right;\n",
       "    }\n",
       "</style>\n",
       "<table border=\"1\" class=\"dataframe\">\n",
       "  <thead>\n",
       "    <tr style=\"text-align: right;\">\n",
       "      <th></th>\n",
       "      <th>Top_Level_Folder</th>\n",
       "      <th>Mail_folder</th>\n",
       "      <th>Message_File</th>\n",
       "      <th>From</th>\n",
       "      <th>To</th>\n",
       "      <th>Cc</th>\n",
       "      <th>Bcc</th>\n",
       "      <th>Date</th>\n",
       "      <th>Subject</th>\n",
       "      <th>Body</th>\n",
       "      <th>Body_Message</th>\n",
       "      <th>Body_Quoted</th>\n",
       "    </tr>\n",
       "  </thead>\n",
       "  <tbody>\n",
       "    <tr>\n",
       "      <th>0</th>\n",
       "      <td>allen-p</td>\n",
       "      <td>all_documents</td>\n",
       "      <td>1</td>\n",
       "      <td>['1.11913372.-2@multexinvestornetwork.com']</td>\n",
       "      <td>['pallen@enron.com']</td>\n",
       "      <td>[]</td>\n",
       "      <td>[]</td>\n",
       "      <td>976761660.0</td>\n",
       "      <td>December 14, 2000 - Bear Stearns' predictions ...</td>\n",
       "      <td>In today's Daily Update you'll find free repor...</td>\n",
       "      <td>In today's Daily Update you'll find free repor...</td>\n",
       "      <td>NaN</td>\n",
       "    </tr>\n",
       "    <tr>\n",
       "      <th>1</th>\n",
       "      <td>allen-p</td>\n",
       "      <td>all_documents</td>\n",
       "      <td>10</td>\n",
       "      <td>['messenger@ecm.bloomberg.com']</td>\n",
       "      <td>[]</td>\n",
       "      <td>[]</td>\n",
       "      <td>[]</td>\n",
       "      <td>976725300.0</td>\n",
       "      <td>Bloomberg Power Lines Report</td>\n",
       "      <td>Here is today's copy of Bloomberg Power Lines....</td>\n",
       "      <td>Here is today's copy of Bloomberg Power Lines....</td>\n",
       "      <td>NaN</td>\n",
       "    </tr>\n",
       "    <tr>\n",
       "      <th>2</th>\n",
       "      <td>allen-p</td>\n",
       "      <td>all_documents</td>\n",
       "      <td>100</td>\n",
       "      <td>['phillip.allen@enron.com']</td>\n",
       "      <td>['keith.holst@enron.com']</td>\n",
       "      <td>[]</td>\n",
       "      <td>[]</td>\n",
       "      <td>971100960.0</td>\n",
       "      <td>Consolidated positions: Issues &amp; To Do list</td>\n",
       "      <td>---------------------- Forwarded by Phillip K ...</td>\n",
       "      <td>---------------------- Forwarded by Phillip K ...</td>\n",
       "      <td>NaN</td>\n",
       "    </tr>\n",
       "    <tr>\n",
       "      <th>3</th>\n",
       "      <td>allen-p</td>\n",
       "      <td>all_documents</td>\n",
       "      <td>101</td>\n",
       "      <td>['phillip.allen@enron.com']</td>\n",
       "      <td>['keith.holst@enron.com']</td>\n",
       "      <td>[]</td>\n",
       "      <td>[]</td>\n",
       "      <td>971100000.0</td>\n",
       "      <td>Consolidated positions: Issues &amp; To Do list</td>\n",
       "      <td>---------------------- Forwarded by Phillip K ...</td>\n",
       "      <td>---------------------- Forwarded by Phillip K ...</td>\n",
       "      <td>NaN</td>\n",
       "    </tr>\n",
       "    <tr>\n",
       "      <th>4</th>\n",
       "      <td>allen-p</td>\n",
       "      <td>all_documents</td>\n",
       "      <td>102</td>\n",
       "      <td>['phillip.allen@enron.com']</td>\n",
       "      <td>['david.delainey@enron.com']</td>\n",
       "      <td>[]</td>\n",
       "      <td>[]</td>\n",
       "      <td>970752360.0</td>\n",
       "      <td>NaN</td>\n",
       "      <td>Dave, \\n\\n Here are the names of the west desk...</td>\n",
       "      <td>Dave, \\n\\n Here are the names of the west desk...</td>\n",
       "      <td>NaN</td>\n",
       "    </tr>\n",
       "  </tbody>\n",
       "</table>\n",
       "</div>"
      ],
      "text/plain": [
       "  Top_Level_Folder    Mail_folder  Message_File   \n",
       "0          allen-p  all_documents             1  \\\n",
       "1          allen-p  all_documents            10   \n",
       "2          allen-p  all_documents           100   \n",
       "3          allen-p  all_documents           101   \n",
       "4          allen-p  all_documents           102   \n",
       "\n",
       "                                          From                            To   \n",
       "0  ['1.11913372.-2@multexinvestornetwork.com']          ['pallen@enron.com']  \\\n",
       "1              ['messenger@ecm.bloomberg.com']                            []   \n",
       "2                  ['phillip.allen@enron.com']     ['keith.holst@enron.com']   \n",
       "3                  ['phillip.allen@enron.com']     ['keith.holst@enron.com']   \n",
       "4                  ['phillip.allen@enron.com']  ['david.delainey@enron.com']   \n",
       "\n",
       "   Cc Bcc         Date                                            Subject   \n",
       "0  []  []  976761660.0  December 14, 2000 - Bear Stearns' predictions ...  \\\n",
       "1  []  []  976725300.0                       Bloomberg Power Lines Report   \n",
       "2  []  []  971100960.0        Consolidated positions: Issues & To Do list   \n",
       "3  []  []  971100000.0        Consolidated positions: Issues & To Do list   \n",
       "4  []  []  970752360.0                                                NaN   \n",
       "\n",
       "                                                Body   \n",
       "0  In today's Daily Update you'll find free repor...  \\\n",
       "1  Here is today's copy of Bloomberg Power Lines....   \n",
       "2  ---------------------- Forwarded by Phillip K ...   \n",
       "3  ---------------------- Forwarded by Phillip K ...   \n",
       "4  Dave, \\n\\n Here are the names of the west desk...   \n",
       "\n",
       "                                        Body_Message Body_Quoted  \n",
       "0  In today's Daily Update you'll find free repor...         NaN  \n",
       "1  Here is today's copy of Bloomberg Power Lines....         NaN  \n",
       "2  ---------------------- Forwarded by Phillip K ...         NaN  \n",
       "3  ---------------------- Forwarded by Phillip K ...         NaN  \n",
       "4  Dave, \\n\\n Here are the names of the west desk...         NaN  "
      ]
     },
     "execution_count": 4,
     "metadata": {},
     "output_type": "execute_result"
    }
   ],
   "source": [
    "# all_emails_new = pd.read_csv(\"all_emails.csv\", engine='pyarrow')\n",
    "all_emails_new = pd.read_csv(\"all_emails.csv\")\n",
    "all_emails_new.head()\n"
   ]
  },
  {
   "cell_type": "code",
   "execution_count": null,
   "metadata": {},
   "outputs": [
    {
     "data": {
      "text/plain": [
       "Top_Level_Folder     object\n",
       "Mail_folder          object\n",
       "Message_File          int64\n",
       "From                 object\n",
       "To                   object\n",
       "Cc                   object\n",
       "Bcc                  object\n",
       "Date                float64\n",
       "Subject              object\n",
       "Body                 object\n",
       "Body_Message         object\n",
       "Body_Quoted          object\n",
       "dtype: object"
      ]
     },
     "execution_count": 5,
     "metadata": {},
     "output_type": "execute_result"
    }
   ],
   "source": [
    "all_emails_new.dtypes\n"
   ]
  },
  {
   "cell_type": "code",
   "execution_count": null,
   "metadata": {},
   "outputs": [
    {
     "data": {
      "text/plain": [
       "Top_Level_Folder            object\n",
       "Mail_folder                 object\n",
       "Message_File                 int64\n",
       "From                        object\n",
       "To                          object\n",
       "Cc                          object\n",
       "Bcc                         object\n",
       "Date                datetime64[ns]\n",
       "Subject                     object\n",
       "Body                        object\n",
       "Body_Message                object\n",
       "Body_Quoted                 object\n",
       "dtype: object"
      ]
     },
     "execution_count": 10,
     "metadata": {},
     "output_type": "execute_result"
    }
   ],
   "source": [
    "all_emails.dtypes\n"
   ]
  },
  {
   "cell_type": "code",
   "execution_count": null,
   "metadata": {},
   "outputs": [],
   "source": []
  }
 ],
 "metadata": {
  "kernelspec": {
   "display_name": "Python 3",
   "language": "python",
   "name": "python3"
  },
  "language_info": {
   "codemirror_mode": {
    "name": "ipython",
    "version": 3
   },
   "file_extension": ".py",
   "mimetype": "text/x-python",
   "name": "python",
   "nbconvert_exporter": "python",
   "pygments_lexer": "ipython3",
   "version": "3.11.3"
  },
  "orig_nbformat": 4
 },
 "nbformat": 4,
 "nbformat_minor": 2
}
