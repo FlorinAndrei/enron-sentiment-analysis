{
 "cells": [
  {
   "cell_type": "code",
   "execution_count": 1,
   "metadata": {},
   "outputs": [],
   "source": [
    "import email\n",
    "import os\n",
    "from pathlib import Path\n",
    "import platform\n"
   ]
  },
  {
   "cell_type": "code",
   "execution_count": 2,
   "metadata": {},
   "outputs": [],
   "source": [
    "# Message files end with a dot. This is not supported on Windows.\n",
    "# Workaround for Windows:\n",
    "# Add a prefix \"\\\\?\\\" to the path to force the OS to read the files.\n",
    "cwd = os.getcwd()\n",
    "if platform.system() == \"Windows\":\n",
    "    cwd = \"\\\\\\\\?\\\\\" + cwd\n",
    "dir = cwd + os.path.normpath(\"/maildir/allen-p/sent_items\")\n",
    "\n",
    "for mf in os.listdir(dir):\n",
    "    message_path = Path(dir + os.path.normpath(\"/\") + mf)\n",
    "    with open(message_path, \"r\") as mfp:\n",
    "        m = email.message_from_file(mfp)\n"
   ]
  },
  {
   "cell_type": "code",
   "execution_count": 4,
   "metadata": {},
   "outputs": [
    {
     "name": "stdout",
     "output_type": "stream",
     "text": [
      "Message-ID <2621811.1075858639545.JavaMail.evans@thyme>\n",
      "Date Thu, 7 Jun 2001 06:49:01 -0700 (PDT)\n",
      "From k..allen@enron.com\n",
      "To stephanie.sever@enron.com\n",
      "Subject \n",
      "Mime-Version 1.0\n",
      "Content-Type text/plain; charset=us-ascii\n",
      "Content-Transfer-Encoding 7bit\n",
      "X-From Allen, Phillip K. </O=ENRON/OU=NA/CN=RECIPIENTS/CN=PALLEN>\n",
      "X-To Sever, Stephanie </O=ENRON/OU=NA/CN=RECIPIENTS/CN=Ssever>\n",
      "X-cc \n",
      "X-bcc \n",
      "X-Folder \\PALLEN (Non-Privileged)\\Allen, Phillip K.\\Sent Items\n",
      "X-Origin Allen-P\n",
      "X-FileName PALLEN (Non-Privileged).pst\n"
     ]
    }
   ],
   "source": [
    "for k, v in m.raw_items():\n",
    "    print(k, v)\n"
   ]
  },
  {
   "cell_type": "code",
   "execution_count": null,
   "metadata": {},
   "outputs": [],
   "source": []
  }
 ],
 "metadata": {
  "kernelspec": {
   "display_name": "Python 3",
   "language": "python",
   "name": "python3"
  },
  "language_info": {
   "codemirror_mode": {
    "name": "ipython",
    "version": 3
   },
   "file_extension": ".py",
   "mimetype": "text/x-python",
   "name": "python",
   "nbconvert_exporter": "python",
   "pygments_lexer": "ipython3",
   "version": "3.11.3"
  },
  "orig_nbformat": 4
 },
 "nbformat": 4,
 "nbformat_minor": 2
}
